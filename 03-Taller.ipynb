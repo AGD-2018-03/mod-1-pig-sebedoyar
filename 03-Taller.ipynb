{
 "cells": [
  {
   "cell_type": "markdown",
   "metadata": {},
   "source": [
    "**Recuerde no agregar o quitar celdas en este notebook, ni modificar su tipo. Si lo hace, el sistema automaticamente lo calificará con cero punto cero (0.0)**"
   ]
  },
  {
   "cell_type": "markdown",
   "metadata": {},
   "source": [
    "Para resolver los problemas presentados, use el siguiente conjunto de datos. Use [gradetool](gradetool.md) para verificar las respuestas del notebook."
   ]
  },
  {
   "cell_type": "code",
   "execution_count": null,
   "metadata": {},
   "outputs": [],
   "source": [
    "%%writefile data.tsv\n",
    "B\t2017-03-10\t10\n",
    "E\t2015-08-02\t11\n",
    "B\t2015-09-23\t1\n",
    "C\t2015-02-01\t8\n",
    "D\t2016-07-03\t4\n",
    "D\t2017-08-25\t14\n",
    "B\t2017-06-05\t15\n",
    "D\t2017-09-27\t13\n",
    "B\t2018-06-15\t12\n",
    "C\t2017-02-18\t5\n",
    "B\t2017-03-09\t2\n",
    "D\t2017-11-11\t3\n",
    "B\t2017-11-19\t9\n",
    "E\t2015-11-28\t6\n",
    "D\t2017-11-03\t7"
   ]
  },
  {
   "cell_type": "code",
   "execution_count": null,
   "metadata": {},
   "outputs": [],
   "source": [
    "%load_ext bigdata\n",
    "%pig_init"
   ]
  },
  {
   "cell_type": "markdown",
   "metadata": {},
   "source": [
    "# Problema 1\n",
    "\n",
    "Calcule la cantidad de registros por letra."
   ]
  },
  {
   "cell_type": "code",
   "execution_count": null,
   "metadata": {},
   "outputs": [],
   "source": [
    "%%pig\n",
    "-- >>> Write your answer here <<<\n",
    "\n",
    "t1 = LOAD 'data.tsv' USING PigStorage('\\t')\n",
    "    AS (letter:CHARARRAY,\n",
    "        date:CHARARRAY,\n",
    "        num:INT);\n",
    "    \n",
    "t2 = FOREACH t1 GENERATE letter;\n",
    "t3 = GROUP t2 BY letter;\n",
    "t4 = FOREACH t3 GENERATE group, COUNT(t2);\n",
    "\n",
    "DUMP t4;"
   ]
  },
  {
   "cell_type": "markdown",
   "metadata": {},
   "source": [
    "# Problema 2\n",
    "\n",
    "Ordene la tabla por letra y valor (3ra columna)."
   ]
  },
  {
   "cell_type": "code",
   "execution_count": null,
   "metadata": {},
   "outputs": [],
   "source": [
    "%%pig\n",
    "-- >>> Write your answer here <<<\n",
    "\n",
    "t5 = ORDER t1 BY letter, num;\n",
    "DUMP t5;"
   ]
  },
  {
   "cell_type": "markdown",
   "metadata": {},
   "source": [
    "# Problema 3\n",
    "\n",
    "Obtenga los cinco registros con los valores más pequeños en la tercera columna."
   ]
  },
  {
   "cell_type": "code",
   "execution_count": null,
   "metadata": {},
   "outputs": [],
   "source": [
    "%%pig\n",
    "-- >>> Write your answer here <<<\n",
    "\n",
    "t6 = FOREACH t1 GENERATE num;\n",
    "t7 = ORDER t6 BY num;\n",
    "t8 = LIMIT t7 5;\n",
    "DUMP t8;"
   ]
  },
  {
   "cell_type": "markdown",
   "metadata": {},
   "source": [
    "---"
   ]
  },
  {
   "cell_type": "code",
   "execution_count": null,
   "metadata": {},
   "outputs": [],
   "source": [
    "!rm data.tsv pig_*"
   ]
  },
  {
   "cell_type": "markdown",
   "metadata": {},
   "source": [
    "---"
   ]
  }
 ],
 "metadata": {
  "kernelspec": {
   "display_name": "Python 3",
   "language": "python",
   "name": "python3"
  },
  "language_info": {
   "codemirror_mode": {
    "name": "ipython",
    "version": 3
   },
   "file_extension": ".py",
   "mimetype": "text/x-python",
   "name": "python",
   "nbconvert_exporter": "python",
   "pygments_lexer": "ipython3",
   "version": "3.6.5"
  },
  "toc": {
   "base_numbering": 1,
   "nav_menu": {},
   "number_sections": false,
   "sideBar": true,
   "skip_h1_title": true,
   "title_cell": "Table of Contents",
   "title_sidebar": "Contents",
   "toc_cell": false,
   "toc_position": {},
   "toc_section_display": true,
   "toc_window_display": true
  },
  "toc-autonumbering": false
 },
 "nbformat": 4,
 "nbformat_minor": 2
}
